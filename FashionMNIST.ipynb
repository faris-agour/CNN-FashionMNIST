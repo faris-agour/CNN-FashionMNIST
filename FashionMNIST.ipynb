{
 "cells": [
  {
   "cell_type": "markdown",
   "id": "bafa68bc",
   "metadata": {},
   "source": [
    "# Fashion-MNIST"
   ]
  },
  {
   "cell_type": "markdown",
   "id": "7a906861",
   "metadata": {},
   "source": [
    "### import libraries"
   ]
  },
  {
   "cell_type": "code",
   "execution_count": 1,
   "id": "9017dead",
   "metadata": {},
   "outputs": [],
   "source": [
    "import torch\n",
    "import torch.nn as nn\n",
    "import torch.nn.functional as F\n",
    "import torchvision\n",
    "from torchvision import datasets, transforms\n",
    "import numpy as np\n",
    "import matplotlib.pyplot as plt\n",
    "from datetime import datetime"
   ]
  },
  {
   "cell_type": "markdown",
   "id": "88966926",
   "metadata": {},
   "source": [
    "### download dataset"
   ]
  },
  {
   "cell_type": "code",
   "execution_count": 2,
   "id": "4ae15ab0",
   "metadata": {},
   "outputs": [],
   "source": [
    "trainset = datasets.FashionMNIST(root = './data',train=True,download=True,transform=transforms.ToTensor())\n",
    "testset = datasets.FashionMNIST(root = './data',train=False,download=True,transform=transforms.ToTensor())"
   ]
  },
  {
   "cell_type": "markdown",
   "id": "1a48205d",
   "metadata": {},
   "source": [
    "### explore data"
   ]
  },
  {
   "cell_type": "code",
   "execution_count": 3,
   "id": "bf3555c2",
   "metadata": {},
   "outputs": [
    {
     "data": {
      "text/plain": [
       "torch.Size([60000, 28, 28])"
      ]
     },
     "execution_count": 3,
     "metadata": {},
     "output_type": "execute_result"
    }
   ],
   "source": [
    "trainset.data.shape"
   ]
  },
  {
   "cell_type": "code",
   "execution_count": 4,
   "id": "c780ebc8",
   "metadata": {},
   "outputs": [
    {
     "data": {
      "text/plain": [
       "tensor(255, dtype=torch.uint8)"
      ]
     },
     "execution_count": 4,
     "metadata": {},
     "output_type": "execute_result"
    }
   ],
   "source": [
    "trainset.data.max()"
   ]
  },
  {
   "cell_type": "code",
   "execution_count": 5,
   "id": "1c079ca5",
   "metadata": {},
   "outputs": [
    {
     "data": {
      "text/plain": [
       "torch.Size([60000])"
      ]
     },
     "execution_count": 5,
     "metadata": {},
     "output_type": "execute_result"
    }
   ],
   "source": [
    "trainset.targets.shape"
   ]
  },
  {
   "cell_type": "code",
   "execution_count": 6,
   "id": "5062a46b",
   "metadata": {},
   "outputs": [
    {
     "data": {
      "text/plain": [
       "['T-shirt/top',\n",
       " 'Trouser',\n",
       " 'Pullover',\n",
       " 'Dress',\n",
       " 'Coat',\n",
       " 'Sandal',\n",
       " 'Shirt',\n",
       " 'Sneaker',\n",
       " 'Bag',\n",
       " 'Ankle boot']"
      ]
     },
     "execution_count": 6,
     "metadata": {},
     "output_type": "execute_result"
    }
   ],
   "source": [
    "classes = trainset.classes\n",
    "classes"
   ]
  },
  {
   "cell_type": "code",
   "execution_count": 21,
   "id": "42ff8583",
   "metadata": {},
   "outputs": [
    {
     "data": {
      "text/plain": [
       "10"
      ]
     },
     "execution_count": 21,
     "metadata": {},
     "output_type": "execute_result"
    }
   ],
   "source": [
    "k = len(trainset.classes)\n",
    "k"
   ]
  },
  {
   "cell_type": "code",
   "execution_count": 22,
   "id": "99b6a268",
   "metadata": {},
   "outputs": [],
   "source": [
    "class CNN(nn.Module):\n",
    "    def __init__(self, k):\n",
    "        super(CNN,self).__init__()\n",
    "        self.conv_layers = nn.Sequential(\n",
    "            nn.Conv2d(1, 32, kernel_size=3, stride=1, padding=1),\n",
    "            nn.ReLU(),\n",
    "            nn.Conv2d(32, 64, kernel_size=3, stride=1, padding=1),\n",
    "            nn.ReLU(),\n",
    "            nn.MaxPool2d(kernel_size=2, stride=2),\n",
    "            \n",
    "            nn.Conv2d(64, 128, kernel_size=3, stride=1, padding=1),\n",
    "            nn.ReLU(),\n",
    "            nn.Conv2d(128, 256, kernel_size=3, stride=1, padding=1),\n",
    "            nn.ReLU(),\n",
    "            nn.MaxPool2d(kernel_size=2, stride=2)\n",
    "        )\n",
    "        self.fc_layers = nn.Sequential(\n",
    "            nn.Dropout(0.3), nn.Linear(256 * 7 * 7, 512), nn.ReLU(), nn.Linear(512, 256), nn.Linear(256, k)\n",
    "        )\n",
    "\n",
    "    def forward(self, x):\n",
    "        out = self.conv_layers(x)\n",
    "\n",
    "        # flatten manully\n",
    "        out = out.view(out.size(0), -1)  # (number of images, dim)\n",
    "\n",
    "        out = self.fc_layers(out)\n",
    "        return out"
   ]
  },
  {
   "cell_type": "code",
   "execution_count": 23,
   "id": "73268200",
   "metadata": {},
   "outputs": [
    {
     "data": {
      "text/plain": [
       "device(type='cuda')"
      ]
     },
     "execution_count": 23,
     "metadata": {},
     "output_type": "execute_result"
    }
   ],
   "source": [
    "device = torch.device(\"cuda\" if torch.cuda.is_available() else \"cpu\")\n",
    "device"
   ]
  },
  {
   "cell_type": "code",
   "execution_count": 24,
   "id": "8f2211a1",
   "metadata": {},
   "outputs": [],
   "source": [
    "model = CNN(k).to(device)"
   ]
  },
  {
   "cell_type": "code",
   "execution_count": 25,
   "id": "b76a1479",
   "metadata": {},
   "outputs": [],
   "source": [
    "criterion = nn.CrossEntropyLoss()\n",
    "optimizer = torch.optim.Adam(model.parameters(), lr=0.001)"
   ]
  },
  {
   "cell_type": "code",
   "execution_count": 26,
   "id": "e1c73759",
   "metadata": {},
   "outputs": [],
   "source": [
    "batch_size = 128\n",
    "train_loader = torch.utils.data.DataLoader(dataset=trainset, batch_size = batch_size, shuffle=True)\n",
    "test_loader = torch.utils.data.DataLoader(dataset=testset, batch_size = batch_size, shuffle=False)"
   ]
  },
  {
   "cell_type": "code",
   "execution_count": 27,
   "id": "8ee8f1bb",
   "metadata": {},
   "outputs": [
    {
     "name": "stdout",
     "output_type": "stream",
     "text": [
      "epoch: 1,  Average Loss = 0.44,  Time: 0:00:03.587410\n",
      "epoch: 2,  Average Loss = 0.25,  Time: 0:00:03.571311\n",
      "epoch: 3,  Average Loss = 0.20,  Time: 0:00:03.565949\n",
      "epoch: 4,  Average Loss = 0.18,  Time: 0:00:03.560293\n",
      "epoch: 5,  Average Loss = 0.15,  Time: 0:00:03.568330\n",
      "epoch: 6,  Average Loss = 0.12,  Time: 0:00:03.554947\n",
      "epoch: 7,  Average Loss = 0.10,  Time: 0:00:03.553850\n",
      "epoch: 8,  Average Loss = 0.09,  Time: 0:00:03.554370\n",
      "epoch: 9,  Average Loss = 0.07,  Time: 0:00:03.557059\n",
      "epoch: 10,  Average Loss = 0.06,  Time: 0:00:03.556324\n"
     ]
    }
   ],
   "source": [
    "epochs  = 10\n",
    "for epoch in range(epochs):\n",
    "    model.train()\n",
    "    train_loss= []\n",
    "    t0 = datetime.now()\n",
    "    for inputs,targets in train_loader:\n",
    "        #gpu\n",
    "        inputs,targets = inputs.to(device),targets.to(device)\n",
    "        \n",
    "        #forward\n",
    "        output = model(inputs)\n",
    "        \n",
    "        #loss\n",
    "        loss = criterion(output,targets)\n",
    "        \n",
    "        #backward\n",
    "        optimizer.zero_grad()\n",
    "        loss.backward()\n",
    "        optimizer.step()\n",
    "        train_loss.append(loss.item())\n",
    "    avg = sum(train_loss)/len(train_loss)\n",
    "    print(f\"epoch: {epoch+1},  Average Loss = {avg:.2f},  Time: {datetime.now()-t0}\")"
   ]
  },
  {
   "cell_type": "code",
   "execution_count": 28,
   "id": "ddca243a",
   "metadata": {},
   "outputs": [
    {
     "name": "stdout",
     "output_type": "stream",
     "text": [
      "Test Loss: 0.27, accuracy = 92.9 %\n"
     ]
    }
   ],
   "source": [
    "correct = 0\n",
    "total = 0\n",
    "misclassified = []\n",
    "with torch.no_grad():\n",
    "    model.eval()\n",
    "    test_loss = []\n",
    "    for inputs, targets in test_loader:\n",
    "        # gpu\n",
    "        inputs, targets = inputs.to(device), targets.to(device)\n",
    "\n",
    "        # predict raw output of the model. shape [batch_size, num_classes].\n",
    "        output = model(inputs)\n",
    "\n",
    "        # Use output for the loss calculation:\n",
    "        loss = criterion(output, targets)\n",
    "\n",
    "        test_loss.append(loss.item())\n",
    "\n",
    "        # accuracy\n",
    "        # Use output to calculate predictions To know which class the model is choosing\n",
    "        _, pred = torch.max(output, 1)\n",
    "        \n",
    "        # item -> convert tensor to python number sum the batch result\n",
    "        correct += (pred == targets).sum().item()\n",
    "        total += targets.size(0)\n",
    "        \n",
    "        # get some misclassified images\n",
    "        for i in range(len(targets)):\n",
    "            if pred[i] != targets[i]:\n",
    "                # turn the tensor to numpy array back to cpu\n",
    "                misclassified.append((inputs[i].cpu().squeeze(0), pred[i].cpu(), targets[i].cpu()))\n",
    "\n",
    "avg_test_loss = sum(test_loss) / len(test_loss)\n",
    "print(f\"Test Loss: {avg_test_loss:.2f}, accuracy = {correct*100/total} %\")"
   ]
  },
  {
   "cell_type": "markdown",
   "id": "57abc39d",
   "metadata": {},
   "source": [
    "# Some misclassified images"
   ]
  },
  {
   "cell_type": "code",
   "execution_count": 32,
   "id": "d2908c54",
   "metadata": {},
   "outputs": [
    {
     "data": {
      "image/png": "[encoded data removed]",
      "text/plain": [
       "<Figure size 720x648 with 6 Axes>"
      ]
     },
     "metadata": {
      "needs_background": "light"
     },
     "output_type": "display_data"
    }
   ],
   "source": [
    "def imshow(img_tensor):\n",
    "    img = img_tensor.cpu().squeeze()  # removes extra dims like [1, 28, 28] → [28, 28]\n",
    "    plt.imshow(img, cmap=\"gray\")\n",
    "    plt.axis(\"off\")\n",
    "plt.figure(figsize=(10, 9))\n",
    "for i in range(6):\n",
    "    img, pred, target = misclassified[i]\n",
    "    plt.subplot(2, 3, i + 1)\n",
    "    imshow(img)\n",
    "    plt.title(f\"True-> {classes[target]}\\nPred-> {classes[pred]} \")\n",
    "plt.tight_layout()\n",
    "plt.show()"
   ]
  },
  {
   "cell_type": "code",
   "execution_count": null,
   "id": "a18841ae",
   "metadata": {},
   "outputs": [],
   "source": []
  }
 ],
 "metadata": {
  "kernelspec": {
   "display_name": "Python 3",
   "language": "python",
   "name": "python3"
  },
  "language_info": {
   "codemirror_mode": {
    "name": "ipython",
    "version": 3
   },
   "file_extension": ".py",
   "mimetype": "text/x-python",
   "name": "python",
   "nbconvert_exporter": "python",
   "pygments_lexer": "ipython3",
   "version": "3.10.12"
  }
 },
 "nbformat": 4,
 "nbformat_minor": 5
}
